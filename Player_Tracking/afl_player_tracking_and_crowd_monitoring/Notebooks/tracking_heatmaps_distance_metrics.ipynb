{
  "nbformat": 4,
  "nbformat_minor": 0,
  "metadata": {
    "colab": {
      "provenance": []
    },
    "kernelspec": {
      "name": "python3",
      "display_name": "Python 3"
    },
    "language_info": {
      "name": "python"
    }
  },
  "cells": [
    {
      "cell_type": "markdown",
      "source": [
        "# 🏁 Week 5 Tracking Analysis Of Xuan's Data\n",
        "\n",
        "**Goal:** Using tacking data from Xuan and parsed by Appar into a CSV file to plot player paths, frame counts and movement patterns."
      ],
      "metadata": {
        "id": "ahSPVtyMCh8z"
      }
    },
    {
      "cell_type": "markdown",
      "source": [
        "**🎞️ 1.1 Upload CSV Files:**"
      ],
      "metadata": {
        "id": "VIQa72o0SAIG"
      }
    },
    {
      "cell_type": "code",
      "execution_count": null,
      "metadata": {
        "colab": {
          "base_uri": "https://localhost:8080/",
          "height": 73
        },
        "id": "IFiLSi7CCdUE",
        "outputId": "08f00481-00ab-45ce-cc73-23fd29ec8923"
      },
      "outputs": [
        {
          "output_type": "display_data",
          "data": {
            "text/plain": [
              "<IPython.core.display.HTML object>"
            ],
            "text/html": [
              "\n",
              "     <input type=\"file\" id=\"files-31dccf27-7e7d-4401-8899-49ef9a39d55b\" name=\"files[]\" multiple disabled\n",
              "        style=\"border:none\" />\n",
              "     <output id=\"result-31dccf27-7e7d-4401-8899-49ef9a39d55b\">\n",
              "      Upload widget is only available when the cell has been executed in the\n",
              "      current browser session. Please rerun this cell to enable.\n",
              "      </output>\n",
              "      <script>// Copyright 2017 Google LLC\n",
              "//\n",
              "// Licensed under the Apache License, Version 2.0 (the \"License\");\n",
              "// you may not use this file except in compliance with the License.\n",
              "// You may obtain a copy of the License at\n",
              "//\n",
              "//      http://www.apache.org/licenses/LICENSE-2.0\n",
              "//\n",
              "// Unless required by applicable law or agreed to in writing, software\n",
              "// distributed under the License is distributed on an \"AS IS\" BASIS,\n",
              "// WITHOUT WARRANTIES OR CONDITIONS OF ANY KIND, either express or implied.\n",
              "// See the License for the specific language governing permissions and\n",
              "// limitations under the License.\n",
              "\n",
              "/**\n",
              " * @fileoverview Helpers for google.colab Python module.\n",
              " */\n",
              "(function(scope) {\n",
              "function span(text, styleAttributes = {}) {\n",
              "  const element = document.createElement('span');\n",
              "  element.textContent = text;\n",
              "  for (const key of Object.keys(styleAttributes)) {\n",
              "    element.style[key] = styleAttributes[key];\n",
              "  }\n",
              "  return element;\n",
              "}\n",
              "\n",
              "// Max number of bytes which will be uploaded at a time.\n",
              "const MAX_PAYLOAD_SIZE = 100 * 1024;\n",
              "\n",
              "function _uploadFiles(inputId, outputId) {\n",
              "  const steps = uploadFilesStep(inputId, outputId);\n",
              "  const outputElement = document.getElementById(outputId);\n",
              "  // Cache steps on the outputElement to make it available for the next call\n",
              "  // to uploadFilesContinue from Python.\n",
              "  outputElement.steps = steps;\n",
              "\n",
              "  return _uploadFilesContinue(outputId);\n",
              "}\n",
              "\n",
              "// This is roughly an async generator (not supported in the browser yet),\n",
              "// where there are multiple asynchronous steps and the Python side is going\n",
              "// to poll for completion of each step.\n",
              "// This uses a Promise to block the python side on completion of each step,\n",
              "// then passes the result of the previous step as the input to the next step.\n",
              "function _uploadFilesContinue(outputId) {\n",
              "  const outputElement = document.getElementById(outputId);\n",
              "  const steps = outputElement.steps;\n",
              "\n",
              "  const next = steps.next(outputElement.lastPromiseValue);\n",
              "  return Promise.resolve(next.value.promise).then((value) => {\n",
              "    // Cache the last promise value to make it available to the next\n",
              "    // step of the generator.\n",
              "    outputElement.lastPromiseValue = value;\n",
              "    return next.value.response;\n",
              "  });\n",
              "}\n",
              "\n",
              "/**\n",
              " * Generator function which is called between each async step of the upload\n",
              " * process.\n",
              " * @param {string} inputId Element ID of the input file picker element.\n",
              " * @param {string} outputId Element ID of the output display.\n",
              " * @return {!Iterable<!Object>} Iterable of next steps.\n",
              " */\n",
              "function* uploadFilesStep(inputId, outputId) {\n",
              "  const inputElement = document.getElementById(inputId);\n",
              "  inputElement.disabled = false;\n",
              "\n",
              "  const outputElement = document.getElementById(outputId);\n",
              "  outputElement.innerHTML = '';\n",
              "\n",
              "  const pickedPromise = new Promise((resolve) => {\n",
              "    inputElement.addEventListener('change', (e) => {\n",
              "      resolve(e.target.files);\n",
              "    });\n",
              "  });\n",
              "\n",
              "  const cancel = document.createElement('button');\n",
              "  inputElement.parentElement.appendChild(cancel);\n",
              "  cancel.textContent = 'Cancel upload';\n",
              "  const cancelPromise = new Promise((resolve) => {\n",
              "    cancel.onclick = () => {\n",
              "      resolve(null);\n",
              "    };\n",
              "  });\n",
              "\n",
              "  // Wait for the user to pick the files.\n",
              "  const files = yield {\n",
              "    promise: Promise.race([pickedPromise, cancelPromise]),\n",
              "    response: {\n",
              "      action: 'starting',\n",
              "    }\n",
              "  };\n",
              "\n",
              "  cancel.remove();\n",
              "\n",
              "  // Disable the input element since further picks are not allowed.\n",
              "  inputElement.disabled = true;\n",
              "\n",
              "  if (!files) {\n",
              "    return {\n",
              "      response: {\n",
              "        action: 'complete',\n",
              "      }\n",
              "    };\n",
              "  }\n",
              "\n",
              "  for (const file of files) {\n",
              "    const li = document.createElement('li');\n",
              "    li.append(span(file.name, {fontWeight: 'bold'}));\n",
              "    li.append(span(\n",
              "        `(${file.type || 'n/a'}) - ${file.size} bytes, ` +\n",
              "        `last modified: ${\n",
              "            file.lastModifiedDate ? file.lastModifiedDate.toLocaleDateString() :\n",
              "                                    'n/a'} - `));\n",
              "    const percent = span('0% done');\n",
              "    li.appendChild(percent);\n",
              "\n",
              "    outputElement.appendChild(li);\n",
              "\n",
              "    const fileDataPromise = new Promise((resolve) => {\n",
              "      const reader = new FileReader();\n",
              "      reader.onload = (e) => {\n",
              "        resolve(e.target.result);\n",
              "      };\n",
              "      reader.readAsArrayBuffer(file);\n",
              "    });\n",
              "    // Wait for the data to be ready.\n",
              "    let fileData = yield {\n",
              "      promise: fileDataPromise,\n",
              "      response: {\n",
              "        action: 'continue',\n",
              "      }\n",
              "    };\n",
              "\n",
              "    // Use a chunked sending to avoid message size limits. See b/62115660.\n",
              "    let position = 0;\n",
              "    do {\n",
              "      const length = Math.min(fileData.byteLength - position, MAX_PAYLOAD_SIZE);\n",
              "      const chunk = new Uint8Array(fileData, position, length);\n",
              "      position += length;\n",
              "\n",
              "      const base64 = btoa(String.fromCharCode.apply(null, chunk));\n",
              "      yield {\n",
              "        response: {\n",
              "          action: 'append',\n",
              "          file: file.name,\n",
              "          data: base64,\n",
              "        },\n",
              "      };\n",
              "\n",
              "      let percentDone = fileData.byteLength === 0 ?\n",
              "          100 :\n",
              "          Math.round((position / fileData.byteLength) * 100);\n",
              "      percent.textContent = `${percentDone}% done`;\n",
              "\n",
              "    } while (position < fileData.byteLength);\n",
              "  }\n",
              "\n",
              "  // All done.\n",
              "  yield {\n",
              "    response: {\n",
              "      action: 'complete',\n",
              "    }\n",
              "  };\n",
              "}\n",
              "\n",
              "scope.google = scope.google || {};\n",
              "scope.google.colab = scope.google.colab || {};\n",
              "scope.google.colab._files = {\n",
              "  _uploadFiles,\n",
              "  _uploadFilesContinue,\n",
              "};\n",
              "})(self);\n",
              "</script> "
            ]
          },
          "metadata": {}
        },
        {
          "output_type": "stream",
          "name": "stdout",
          "text": [
            "Saving tracking.csv to tracking.csv\n"
          ]
        }
      ],
      "source": [
        "from google.colab import files\n",
        "uploaded = files.upload()\n",
        "filename = next(iter(uploaded))"
      ]
    },
    {
      "cell_type": "markdown",
      "source": [
        "**📖 1.2 Read CSV file into a dataframe (df)**"
      ],
      "metadata": {
        "id": "5qUmBGz9C7xB"
      }
    },
    {
      "cell_type": "code",
      "source": [
        "import pandas as pd\n",
        "\n",
        "df = pd.read_csv(filename)\n",
        "\n",
        "print(f\"Loaded file: {filename}\")\n",
        "print()\n",
        "print(df.head())\n",
        "print()\n",
        "print(df.info())"
      ],
      "metadata": {
        "colab": {
          "base_uri": "https://localhost:8080/"
        },
        "id": "KQkExV0UC9c2",
        "outputId": "e6ee8a12-798d-4bc0-cfd7-a3c24622c6e3"
      },
      "execution_count": null,
      "outputs": [
        {
          "output_type": "stream",
          "name": "stdout",
          "text": [
            "Loaded file: tracking.csv\n",
            "\n",
            "   frame_id  player_id  timestamp_s   x1   y1   x2   y2   cx   cy    w    h  \\\n",
            "0         1          1         0.00  624  478  841  964  732  721  217  485   \n",
            "1         1          2         0.00  534  419  772  872  653  645  238  452   \n",
            "2         2          1         0.04  613  482  807  964  710  723  193  481   \n",
            "3         2          2         0.04  486  418  744  855  615  636  257  436   \n",
            "4         3          1         0.08  621  483  788  968  704  725  166  484   \n",
            "\n",
            "   confidence  \n",
            "0        0.77  \n",
            "1        0.74  \n",
            "2        0.86  \n",
            "3        0.84  \n",
            "4        0.80  \n",
            "\n",
            "<class 'pandas.core.frame.DataFrame'>\n",
            "RangeIndex: 761 entries, 0 to 760\n",
            "Data columns (total 12 columns):\n",
            " #   Column       Non-Null Count  Dtype  \n",
            "---  ------       --------------  -----  \n",
            " 0   frame_id     761 non-null    int64  \n",
            " 1   player_id    761 non-null    int64  \n",
            " 2   timestamp_s  761 non-null    float64\n",
            " 3   x1           761 non-null    int64  \n",
            " 4   y1           761 non-null    int64  \n",
            " 5   x2           761 non-null    int64  \n",
            " 6   y2           761 non-null    int64  \n",
            " 7   cx           761 non-null    int64  \n",
            " 8   cy           761 non-null    int64  \n",
            " 9   w            761 non-null    int64  \n",
            " 10  h            761 non-null    int64  \n",
            " 11  confidence   761 non-null    float64\n",
            "dtypes: float64(2), int64(10)\n",
            "memory usage: 71.5 KB\n",
            "None\n"
          ]
        }
      ]
    },
    {
      "cell_type": "markdown",
      "source": [
        "**🔝 Results:**\n",
        "\n",
        "- Datasets have loaded **Successfully**.\n",
        "- All data is either float or int which is **Good**.\n",
        "- non-null count in each column, **Good** no missing data."
      ],
      "metadata": {
        "id": "RT3vy3DvGEDT"
      }
    },
    {
      "cell_type": "markdown",
      "source": [
        "# **📑 Column Descriptions**\n",
        "\n",
        "Each row represents a detected object (usually a player) in a single video frame. The columns mean:\n",
        "\n",
        "- **frame_id**: The frame number from the video where the detection occurred.  \n",
        "- **player_id**: The unique identifier assigned to a player by the tracking algorithm (lets us follow them across frames).  \n",
        "- **timestamp_s**: The timestamp of the frame in seconds.\n",
        "- **x1, y1**: The coordinates of the top left corner of the bounding box around the player.\n",
        "- **x2, y2**: The coordinates of the bottom right corner of the bounding box around the player.\n",
        "- **cx, cy**: The coordinated of the center of the bounding box. Calculated from x1, y1, x2, y2.  \n",
        "- **w (width), h (height)**: The size of the bounding box around the player in pixels.  \n",
        "- **conf**: The models confidence score for the detection (0-1).  "
      ],
      "metadata": {
        "id": "eek7tXxCGJSo"
      }
    },
    {
      "cell_type": "markdown",
      "source": [
        "**❄️ 1.4 Unique Frames per  Player**"
      ],
      "metadata": {
        "id": "FQEosOhNBb20"
      }
    },
    {
      "cell_type": "code",
      "source": [
        "player_counts = (df.groupby('player_id').size().reset_index(name='frame_count').sort_values('player_id'))\n",
        "print(player_counts)"
      ],
      "metadata": {
        "id": "ECx61gsuDBi2",
        "colab": {
          "base_uri": "https://localhost:8080/"
        },
        "outputId": "367548be-048a-48c0-d070-e18e4155918e"
      },
      "execution_count": null,
      "outputs": [
        {
          "output_type": "stream",
          "name": "stdout",
          "text": [
            "    player_id  frame_count\n",
            "0           1          185\n",
            "1           2           28\n",
            "2           3            1\n",
            "3           4            1\n",
            "4           5           69\n",
            "5          34            7\n",
            "6          36           36\n",
            "7          45            1\n",
            "8          49            4\n",
            "9          50          132\n",
            "10         55           25\n",
            "11         62          110\n",
            "12         63            4\n",
            "13         64           29\n",
            "14         69            8\n",
            "15         70            8\n",
            "16         72           10\n",
            "17         73            4\n",
            "18         78           20\n",
            "19         79           56\n",
            "20         86            8\n",
            "21         87            6\n",
            "22         88            8\n",
            "23         98            1\n"
          ]
        }
      ]
    },
    {
      "cell_type": "markdown",
      "source": [
        "**🔝 Results:**\n",
        "- 24 unique player_id\n",
        "- player_id appear to be done by geunsy number, hence the jump from 5-34 in player_id\n",
        "- player_id = 1, recorded the most amount of frame_count with 185\n",
        "- player_id = 3, 4, 45, 98, recorded the least amount of frame_count with 1"
      ],
      "metadata": {
        "id": "fIW51v_lTHpm"
      }
    },
    {
      "cell_type": "markdown",
      "source": [
        "**🏃‍♂️‍➡️ 1.5 Player movement path**\n",
        "\n",
        "Here we filter the data to show the movement of a single player via their `player_id`.\n",
        "\n",
        "- Plotting player of choice, path on cx - cy coordinates\n",
        "- Each dot represents their position on one frame\n",
        "- Each line is their movement from one frame to their next"
      ],
      "metadata": {
        "id": "rb8pp_0ITpkD"
      }
    },
    {
      "cell_type": "code",
      "source": [
        "import matplotlib.pyplot as plt\n",
        "\n",
        "def plot_player_path(df):\n",
        "    # Ask user which player_id to plot\n",
        "    player_choice = int(input(\"Choose one of the player_id numbers from above to identify movement patterns overtime: \"))\n",
        "\n",
        "    p = df[df['player_id'] == player_choice].sort_values(['frame_id', 'timestamp_s'])\n",
        "\n",
        "    plt.figure(figsize=(6,6))\n",
        "    plt.plot(p['cx'], p['cy'], color='green', marker=\"o\", markersize=3, linestyle=\"-\")\n",
        "    plt.title(f\"Player {player_choice} path\")\n",
        "    plt.xlabel(\"X Position (pixels)\")\n",
        "    plt.ylabel(\"Y Position (pixels)\")\n",
        "    plt.gca().invert_yaxis() # Match video coordinates (y downwards?)\n",
        "    plt.show()\n",
        "\n",
        "plot_player_path(df)"
      ],
      "metadata": {
        "colab": {
          "base_uri": "https://localhost:8080/",
          "height": 581
        },
        "id": "2iFCJHZNGHm-",
        "outputId": "b30b619b-b59d-46f8-e356-30372760c3e5"
      },
      "execution_count": null,
      "outputs": [
        {
          "name": "stdout",
          "output_type": "stream",
          "text": [
            "Choose one of the player_id numbers from above to identify movement patterns overtime: 1\n"
          ]
        },
        {
          "output_type": "display_data",
          "data": {
            "text/plain": [
              "<Figure size 600x600 with 1 Axes>"
            ],
            "image/png": "[encoded data removed]"
          },
          "metadata": {}
        }
      ]
    },
    {
      "cell_type": "markdown",
      "source": [
        "# 🔥 Week 6 HeatMap Overlays\n",
        "\n",
        "**Goal:** Use merged dataset to overlay AFL event data (kick/mark/tackle) on heatmap images. Coordinate closely with Ishita's team for frontend-ready visuals."
      ],
      "metadata": {
        "id": "9d_X01U6mdb-"
      }
    },
    {
      "cell_type": "markdown",
      "source": [
        "**💾 2.1 Install SciPy for Gaussian_filter**\n",
        "\n",
        "The **heatmappipline.py** file uses the SciPy package for scientific computing in python, we must download in order to perform here on Google Colab."
      ],
      "metadata": {
        "id": "-QwKeY2-mgPK"
      }
    },
    {
      "cell_type": "code",
      "source": [
        "!pip -q install scipy"
      ],
      "metadata": {
        "id": "FzoQa8jpatR0"
      },
      "execution_count": null,
      "outputs": []
    },
    {
      "cell_type": "markdown",
      "source": [
        "**🏃‍♂️‍➡️ 2.2 Run heatmappipline.py**\n",
        "\n",
        "We now upload and run out custom `heatmappipline_xuan.py` script on the 'tracking.csv' dataset.\n",
        "\n",
        "This script:\n",
        "- Reads the player tracking data\n",
        "- Scales the positions to AFL oval dimensions (165m x 135m)\n",
        "- Bins the positions into a 2D grid (200 x 150 cells)\n",
        "- Applies Gaussian smoothing (`sigma = 2.0`) to highlight dense areas\n",
        "- Outputs per-player heatmaps into the `heatmap_outputs` directory"
      ],
      "metadata": {
        "id": "LZ94lkmcmnWu"
      }
    },
    {
      "cell_type": "code",
      "source": [
        "from IPython.display import clear_output\n",
        "\n",
        "uploaded = files.upload()\n",
        "clear_output() # wipe the unnecessary log\n",
        "hmfile = next(iter(uploaded))\n",
        "print(f\"Loaded file: {hmfile}\")"
      ],
      "metadata": {
        "colab": {
          "base_uri": "https://localhost:8080/",
          "height": 73
        },
        "id": "zpuVK7auyICf",
        "outputId": "bd8e2dff-8493-4daa-916a-456ce12efb2c"
      },
      "execution_count": null,
      "outputs": [
        {
          "output_type": "stream",
          "name": "stdout",
          "text": [
            "Loaded file: heatmappipeline_xuan.py\n"
          ]
        }
      ]
    },
    {
      "cell_type": "code",
      "source": [
        "csv_name = \"tracking.csv\"\n",
        "!python heatmappipeline_xuan.py \\\n",
        "  --inputs \"{csv_name}:Xuan\" \\\n",
        "  --out-dir heatmap_outputs \\\n",
        "  --weight-mode conf \\\n",
        "  --field-length 165 --field-width 135 \\\n",
        "  --nx 200 --ny 150 \\\n",
        "  --sigma 2.0 \\\n",
        "  --group-by player_id"
      ],
      "metadata": {
        "colab": {
          "base_uri": "https://localhost:8080/"
        },
        "id": "Byvmpw0imku_",
        "outputId": "0d6c408b-b474-4b9a-bda5-e2a0f84f644c"
      },
      "execution_count": null,
      "outputs": [
        {
          "output_type": "stream",
          "name": "stdout",
          "text": [
            "DEBUG group-by: player_id\n",
            "Done. Outputs in: /content/heatmap_outputs\n"
          ]
        }
      ]
    },
    {
      "cell_type": "markdown",
      "source": [
        "**💡 2.3 Check Generated Heatmaps**\n",
        "\n",
        "Here we scan the output folder (`heatmap_outputs`) to confirm which player heatmaps were successfully created. These are our `player_choices` options for `section 2.4`."
      ],
      "metadata": {
        "id": "p4GT0K4hKN24"
      }
    },
    {
      "cell_type": "code",
      "source": [
        "import glob, os, re\n",
        "\n",
        "files = glob.glob(\"heatmap_outputs/heatmap_*.png\")\n",
        "pids = []\n",
        "for p in files:\n",
        "    m = re.search(r\"heatmap_(\\d+)\\.png$\", os.path.basename(p))\n",
        "    if m:  # only keep if the filename matches the pattern\n",
        "        pids.append(int(m.group(1)))\n",
        "\n",
        "pids = sorted(pids)\n",
        "print(\"Player heatmaps found for IDs:\", pids)"
      ],
      "metadata": {
        "colab": {
          "base_uri": "https://localhost:8080/"
        },
        "id": "Y-vnNH-pEvAS",
        "outputId": "5de523a1-d297-4085-aae7-2d0855f70ede"
      },
      "execution_count": null,
      "outputs": [
        {
          "output_type": "stream",
          "name": "stdout",
          "text": [
            "Player heatmaps found for IDs: [1, 2, 3, 4, 5, 34, 36, 45, 49, 50, 55, 62, 63, 64, 69, 70, 72, 73, 78, 79, 86, 87, 88, 98]\n"
          ]
        }
      ]
    },
    {
      "cell_type": "markdown",
      "source": [
        "**🔁 2.4 Choose Player heatmap**\n",
        "\n",
        "This function prompts the user to enter a `player_id` and then loads the corresponding pre-generated heatmap image.\n",
        "\n",
        "- Shows movement intensity for each player on the AFL oval\n",
        "\n"
      ],
      "metadata": {
        "id": "4fdNXTc85mMd"
      }
    },
    {
      "cell_type": "code",
      "source": [
        "import os, matplotlib.pyplot as plt\n",
        "import matplotlib.image as mpimg\n",
        "\n",
        "def player_heatmap():\n",
        "  player_choice = input(\"Choose one of the player_id numbers from above to identify their heatmap: \").strip()\n",
        "\n",
        "  # Build the expected file path\n",
        "  filename = f\"heatmap_{player_choice}.png\"\n",
        "  path = os.path.join(\"heatmap_outputs\", filename)\n",
        "\n",
        "  if not os.path.exists(path):\n",
        "    print(f\"No heatmap found for player {player_choice} at {path}\")\n",
        "    return\n",
        "\n",
        "  img = mpimg.imread(path)\n",
        "  plt.figure(figsize=(8,6))\n",
        "  plt.imshow(img)\n",
        "  plt.axis(\"off\")\n",
        "  plt.title(f\"Player {player_choice} Heatmap\")\n",
        "  plt.show()\n",
        "\n",
        "player_heatmap()\n"
      ],
      "metadata": {
        "colab": {
          "base_uri": "https://localhost:8080/",
          "height": 527
        },
        "id": "ptMpQR7iriYe",
        "outputId": "f80441d9-7551-4c40-d9a9-6405fecf92d0"
      },
      "execution_count": null,
      "outputs": [
        {
          "name": "stdout",
          "output_type": "stream",
          "text": [
            "Choose one of the player_id numbers from above to identify their heatmap: 1\n"
          ]
        },
        {
          "output_type": "display_data",
          "data": {
            "text/plain": [
              "<Figure size 800x600 with 1 Axes>"
            ],
            "image/png": "[encoded data removed]"
          },
          "metadata": {}
        }
      ]
    },
    {
      "cell_type": "markdown",
      "source": [
        "# 📋 Week 7 Compute distance, speed and heatmap participation for each player\n",
        "\n",
        "**Goal:** Deliver JSON stats for ISHITA'S Dashboard"
      ],
      "metadata": {
        "id": "MQCFSrh0LvmR"
      }
    },
    {
      "cell_type": "markdown",
      "source": [
        "**🛣️ 3.1 Distance covered by each player**"
      ],
      "metadata": {
        "id": "9SfjY5PlL4t_"
      }
    },
    {
      "cell_type": "code",
      "source": [
        "import numpy as np\n",
        "\n",
        "# Ensure previous row is player's previous location\n",
        "df_sorted = df.sort_values(['player_id', 'frame_id', 'timestamp_s'],    # Sorts df so for each player_id the rows are in order of appearance in video(fram_id then timestamp_s)\n",
        "                           kind='mergesort').copy()                     # mergesort an effective sorting alg. .copy() makes a copy rather than changing original\n",
        "\n",
        "# Defined oval dimensions from Flynns heatmappipeline.py file\n",
        "field_length_m = 165\n",
        "field_width_m = 135\n",
        "\n",
        "# Pixel range of field\n",
        "px_width = df['cx'].max() - df['cx'].min()                             # Finds how many pixels are in the length of the field\n",
        "px_length  = df['cy'].max() - df['cy'].min()                           # Finds how many pixels are in the width of the field\n",
        "\n",
        "scale_x = field_width_m / px_width                                     # How many meters per pixel i.e. 165 / 1000 = 0.165m per pixel\n",
        "scale_y = field_length_m / px_length\n",
        "\n",
        "# Convert cx, cy into metres\n",
        "df_sorted['cx_m'] = (                                                   # creating a new sorted series\n",
        "    df_sorted['cx']                                                     # pd series of x-coordinates in pixels\n",
        "    - df_sorted['cx'].min()                                             # smallest x-pixel coordinates\n",
        "    ) * scale_x                                                         # e.g. (732 - 1) * 0.165 = 120.615m / 165m down the length of the field\n",
        "\n",
        "df_sorted['cy_m'] = (                                                   # Same again\n",
        "    df_sorted['cy']\n",
        "    - df_sorted['cy'].min()\n",
        "    ) * scale_y                                                         # e.g. (721 - 40) * 0.165 = 112.365m / 135m across the width of the field\n",
        "\n",
        "# Step distances in metres\n",
        "dx_m = df_sorted.groupby('player_id')['cx_m'].diff()                    # For each player compute difference between x positions in meters\n",
        "dy_m = df_sorted.groupby('player_id')['cy_m'].diff()                    # For each player compute difference between y position in meters\n",
        "\n",
        "# compute distance travelled and clamp unrealistic speeds\n",
        "# Using per frame distance. Anything >3 m between previous frames is treated as an outlier.\n",
        "step = np.hypot(dx_m, dy_m)                                             # np.hypot() finds euclidean difference between x and y coordinates\n",
        "max_step_m = 0.5                                                          # reasonable per-frame maximum at 50fps footage?\n",
        "df_sorted['step_dist_m'] = np.where(np.isfinite(step) & (step <= max_step_m), step, 0.0) # Two checks: keeps only step data that is real (.isfinite) and under max step. If conditions true keep, if not replace with 0.0\n",
        "df_sorted['step_dist_m'] = df_sorted['step_dist_m'].fillna(0)           # np.hypot() finds the euclidean difference between x-difference and y-difference. Fill Na's with '0'\n",
        "\n",
        "# Total distance per player\n",
        "player_distance = (\n",
        "    df_sorted.groupby('player_id', as_index=False)['step_dist_m']       # Group the df by player_id so all their rows are together\n",
        "    .sum()                                                              # Sum all step distances for each player\n",
        "    .rename(columns={'step_dist_m': 'distance_covered_m'})              # Clearer column name\n",
        "    .sort_values('player_id')                                           # Sort the rows by player_id\n",
        ")\n",
        "\n",
        "# Print results\n",
        "for _, row in player_distance.iterrows():                               # Loop through each row of the summary df, iterrows lets you iterate through rows\n",
        "    print(f\"player_id {int(row.player_id)}: {row.distance_covered_m:.2f} m\")"
      ],
      "metadata": {
        "id": "_y5-MSbZMZDi",
        "colab": {
          "base_uri": "https://localhost:8080/"
        },
        "outputId": "17ebbf74-d84f-477f-c87c-96c1fe4f763f"
      },
      "execution_count": null,
      "outputs": [
        {
          "output_type": "stream",
          "name": "stdout",
          "text": [
            "player_id 1: 3.60 m\n",
            "player_id 2: 0.00 m\n",
            "player_id 3: 0.00 m\n",
            "player_id 4: 0.00 m\n",
            "player_id 5: 0.44 m\n",
            "player_id 34: 0.32 m\n",
            "player_id 36: 0.00 m\n",
            "player_id 45: 0.00 m\n",
            "player_id 49: 0.00 m\n",
            "player_id 50: 2.94 m\n",
            "player_id 55: 0.00 m\n",
            "player_id 62: 2.54 m\n",
            "player_id 63: 0.00 m\n",
            "player_id 64: 0.00 m\n",
            "player_id 69: 0.00 m\n",
            "player_id 70: 0.00 m\n",
            "player_id 72: 0.00 m\n",
            "player_id 73: 0.00 m\n",
            "player_id 78: 0.00 m\n",
            "player_id 79: 3.31 m\n",
            "player_id 86: 0.24 m\n",
            "player_id 87: 0.00 m\n",
            "player_id 88: 0.00 m\n",
            "player_id 98: 0.00 m\n"
          ]
        }
      ]
    },
    {
      "cell_type": "markdown",
      "source": [
        "**🚀 3.2 Mean Speed + Max Speed of each player**\n",
        "\n",
        "---\n",
        "\n"
      ],
      "metadata": {
        "id": "M5YeMTkVL-Oe"
      }
    },
    {
      "cell_type": "code",
      "source": [
        "fps = 25\n",
        "\n",
        "# Time delta from frame gaps per player (more reliable than timestamp_s if jittery)\n",
        "frame_gap = df_sorted.groupby('player_id')['frame_id'].diff()       # Groups data by player_id, finding difference between current frame and previous\n",
        "dt_frames = frame_gap / fps                                         # Converts gaps between frames into actual time (seconds)\n",
        "\n",
        "# Instantaneous speed (m/s) from clamped per-step distance\n",
        "clamped_step = df_sorted['step_dist_m']                                                         # Using clamped step distance from earlier (step_dist_m)\n",
        "speed_mps = np.where((dt_frames > 0) & np.isfinite(dt_frames), clamped_step / dt_frames, np.nan) # Speed formula: speed (m/s) = distance (m) / time (s). Use NaN for invalids so mean ignores them.\n",
        "\n",
        "# Cap impossible speeds by clipping\n",
        "vmax_ms = 12.0                                                                                  # Defining a maximum speed of 12 m/s (~43 km/h).\n",
        "speed_mps = np.clip(speed_mps, 0, vmax_ms)                                                      # Clip speeds to [0, vmax_ms]. Keeps valid samples but prevents spikes.\n",
        "\n",
        "df_sorted['speed_mps'] = speed_mps                                                              # Stores clean speed values into df\n",
        "df_sorted['dt_s'] = np.where(np.isfinite(dt_frames) & (dt_frames > 0), dt_frames, np.nan)       # Stores valid time gaps (s) into df. Invalids set to NaN.\n",
        "\n",
        "# Per-player summaries\n",
        "player_speed = (\n",
        "    df_sorted.groupby('player_id')\n",
        "             .agg(\n",
        "                 mean_speed_mps=('speed_mps', 'mean'),          # Mean of frame-by-frame speeds (ignores NaNs)\n",
        "                 max_speed_mps=('speed_mps', 'max'),            # Peak instantaneous speed\n",
        "                 total_dist_m=('step_dist_m', 'sum'),           # Total distance covered (m), already clamped\n",
        "                 total_time_s=('dt_s', 'sum')                   # Total valid time (s)\n",
        "             )\n",
        "             .reset_index()\n",
        ")\n",
        "\n",
        "# Print results (both m/s and km/h)\n",
        "for _, r in player_speed.iterrows():\n",
        "    print(\n",
        "        f\"player_id {int(r.player_id)}: \"\n",
        "        f\"mean_speed= {r.mean_speed_mps:.2f} m/s ({r.mean_speed_mps*3.6:.1f} km/h), \"\n",
        "        f\"max_speed= {r.max_speed_mps:.2f} m/s ({r.max_speed_mps*3.6:.1f} km/h), \"\n",
        "        f\"distance= {r.total_dist_m:.2f} m, \"\n",
        "        f\"time= {r.total_time_s:.2f} s\"\n",
        "    )"
      ],
      "metadata": {
        "id": "dLZaOqlEMZsK",
        "colab": {
          "base_uri": "https://localhost:8080/"
        },
        "outputId": "b06061e6-bc62-469a-e1fd-eb6fa5ba12aa"
      },
      "execution_count": null,
      "outputs": [
        {
          "output_type": "stream",
          "name": "stdout",
          "text": [
            "player_id 1: mean_speed= 0.48 m/s (1.7 km/h), max_speed= 12.00 m/s (43.2 km/h), distance= 3.60 m, time= 7.36 s\n",
            "player_id 2: mean_speed= 0.00 m/s (0.0 km/h), max_speed= 0.00 m/s (0.0 km/h), distance= 0.00 m, time= 7.36 s\n",
            "player_id 3: mean_speed= nan m/s (nan km/h), max_speed= nan m/s (nan km/h), distance= 0.00 m, time= 0.00 s\n",
            "player_id 4: mean_speed= nan m/s (nan km/h), max_speed= nan m/s (nan km/h), distance= 0.00 m, time= 0.00 s\n",
            "player_id 5: mean_speed= 0.16 m/s (0.6 km/h), max_speed= 10.93 m/s (39.3 km/h), distance= 0.44 m, time= 3.04 s\n",
            "player_id 34: mean_speed= 1.32 m/s (4.8 km/h), max_speed= 7.93 m/s (28.5 km/h), distance= 0.32 m, time= 0.24 s\n",
            "player_id 36: mean_speed= 0.00 m/s (0.0 km/h), max_speed= 0.00 m/s (0.0 km/h), distance= 0.00 m, time= 1.44 s\n",
            "player_id 45: mean_speed= nan m/s (nan km/h), max_speed= nan m/s (nan km/h), distance= 0.00 m, time= 0.00 s\n",
            "player_id 49: mean_speed= 0.00 m/s (0.0 km/h), max_speed= 0.00 m/s (0.0 km/h), distance= 0.00 m, time= 0.12 s\n",
            "player_id 50: mean_speed= 0.56 m/s (2.0 km/h), max_speed= 12.00 m/s (43.2 km/h), distance= 2.94 m, time= 5.48 s\n",
            "player_id 55: mean_speed= 0.00 m/s (0.0 km/h), max_speed= 0.00 m/s (0.0 km/h), distance= 0.00 m, time= 0.96 s\n",
            "player_id 62: mean_speed= 0.58 m/s (2.1 km/h), max_speed= 12.00 m/s (43.2 km/h), distance= 2.54 m, time= 4.36 s\n",
            "player_id 63: mean_speed= 0.00 m/s (0.0 km/h), max_speed= 0.00 m/s (0.0 km/h), distance= 0.00 m, time= 0.12 s\n",
            "player_id 64: mean_speed= 0.00 m/s (0.0 km/h), max_speed= 0.00 m/s (0.0 km/h), distance= 0.00 m, time= 1.16 s\n",
            "player_id 69: mean_speed= 0.00 m/s (0.0 km/h), max_speed= 0.00 m/s (0.0 km/h), distance= 0.00 m, time= 0.28 s\n",
            "player_id 70: mean_speed= 0.00 m/s (0.0 km/h), max_speed= 0.00 m/s (0.0 km/h), distance= 0.00 m, time= 0.28 s\n",
            "player_id 72: mean_speed= 0.00 m/s (0.0 km/h), max_speed= 0.00 m/s (0.0 km/h), distance= 0.00 m, time= 0.72 s\n",
            "player_id 73: mean_speed= 0.00 m/s (0.0 km/h), max_speed= 0.00 m/s (0.0 km/h), distance= 0.00 m, time= 0.12 s\n",
            "player_id 78: mean_speed= 0.00 m/s (0.0 km/h), max_speed= 0.00 m/s (0.0 km/h), distance= 0.00 m, time= 0.84 s\n",
            "player_id 79: mean_speed= 1.49 m/s (5.4 km/h), max_speed= 12.00 m/s (43.2 km/h), distance= 3.31 m, time= 2.20 s\n",
            "player_id 86: mean_speed= 0.86 m/s (3.1 km/h), max_speed= 6.03 m/s (21.7 km/h), distance= 0.24 m, time= 0.28 s\n",
            "player_id 87: mean_speed= 0.00 m/s (0.0 km/h), max_speed= 0.00 m/s (0.0 km/h), distance= 0.00 m, time= 0.20 s\n",
            "player_id 88: mean_speed= 0.00 m/s (0.0 km/h), max_speed= 0.00 m/s (0.0 km/h), distance= 0.00 m, time= 0.28 s\n",
            "player_id 98: mean_speed= nan m/s (nan km/h), max_speed= nan m/s (nan km/h), distance= 0.00 m, time= 0.00 s\n"
          ]
        }
      ]
    },
    {
      "cell_type": "markdown",
      "source": [
        "**🏅 3.3 Heatmap Participation**"
      ],
      "metadata": {
        "id": "tuGg7gH9MCtE"
      }
    },
    {
      "cell_type": "code",
      "source": [
        "# 3.3.1\n",
        "\n",
        "# Always work in /content so outputs are visible\n",
        "%cd /content\n",
        "\n",
        "# Make sure output folder exists (neat, dedicated for fixed vmax runs)\n",
        "!mkdir -p heatmap_frames_vmax\n",
        "\n",
        "import numpy as np, pandas as pd\n",
        "from scipy.ndimage import gaussian_filter\n",
        "\n",
        "# df should already be loaded earlier in the notebook:\n",
        "# df = pd.read_csv(\"tracking.csv\")\n",
        "\n",
        "# Sorted data\n",
        "df_sorted = df.sort_values(['player_id','frame_id','timestamp_s'], kind='mergesort').copy()\n",
        "\n",
        "# Match pipeline settings\n",
        "FIELD_LEN_M, FIELD_WID_M = 165.0, 135.0\n",
        "NX, NY, SIGMA = 200, 150, 2.0\n",
        "\n",
        "# Shared bbox like the pipeline uses\n",
        "px_xmin, px_xmax = df_sorted['cx'].min(), df_sorted['cx'].max()\n",
        "px_ymin, px_ymax = df_sorted['cy'].min(), df_sorted['cy'].max()\n",
        "shared_bbox_raw = (px_xmin, px_xmax, px_ymin, px_ymax)\n",
        "\n",
        "a, b = FIELD_LEN_M/2.0, FIELD_WID_M/2.0  # metres (half-length, half-width)\n",
        "\n",
        "def raw_to_metres(x, y, bbox, a, b):\n",
        "    xmin, xmax, ymin, ymax = bbox\n",
        "    xm = ((x - xmin) / max(1e-9, (xmax - xmin))) * (2*a) - a\n",
        "    ym = ((y - ymin) / max(1e-9, (ymax - ymin))) * (2*b) - b\n",
        "    return xm, ym\n",
        "\n",
        "def frame_heat_max(frame_df):\n",
        "    # Confidence-weighted, same grid/smoothing as pipeline; return robust 99th-pct max\n",
        "    w = pd.to_numeric(frame_df[\"confidence\"], errors=\"coerce\").fillna(0.0).to_numpy()\n",
        "    x_m, y_m = raw_to_metres(frame_df[\"cx\"].to_numpy(), frame_df[\"cy\"].to_numpy(),\n",
        "                             shared_bbox_raw, a, b)\n",
        "    x_edges = np.linspace(-a, a, NX+1)\n",
        "    y_edges = np.linspace(-b, b, NY+1)\n",
        "    H, _, _ = np.histogram2d(x_m, y_m, bins=[x_edges, y_edges], weights=w)\n",
        "    H = H.T\n",
        "    Hs = gaussian_filter(H, sigma=SIGMA)\n",
        "    finite = Hs[np.isfinite(Hs)]\n",
        "    return np.nanpercentile(finite, 99) if finite.size else 0.0\n",
        "\n",
        "VMAX_GLOBAL = float(np.max([\n",
        "    frame_heat_max(g) for _, g in df_sorted.groupby(\"frame_id\", sort=True)\n",
        "]))\n",
        "print(\"Global vmax for colour scale:\", VMAX_GLOBAL)"
      ],
      "metadata": {
        "colab": {
          "base_uri": "https://localhost:8080/"
        },
        "id": "I9euiH_SSA_o",
        "outputId": "16c911d7-3a07-41e6-aea3-8e0fadbc1a22"
      },
      "execution_count": null,
      "outputs": [
        {
          "output_type": "stream",
          "name": "stdout",
          "text": [
            "/content\n",
            "Global vmax for color scale: 0.003944370776504145\n"
          ]
        }
      ]
    },
    {
      "cell_type": "code",
      "source": [
        "# 3.3.2\n",
        "\n",
        "from pathlib import Path\n",
        "import re\n",
        "\n",
        "p = Path(\"heatmappipeline_xuan.py\")\n",
        "code = p.read_text()\n",
        "\n",
        "if \"--vmax\" not in code:\n",
        "    # Insert new argument right after --sigma (keeps indentation safe)\n",
        "    code = re.sub(\n",
        "        r'(ap\\.add_argument\\(\"--sigma\".*?\\)\\n)',\n",
        "        r'\\1    ap.add_argument(\"--vmax\", type=float, default=None,\\n'\n",
        "        r'                    help=\"Fix colorbar upper bound for consistent scale across images\")\\n',\n",
        "        code,\n",
        "        count=1,\n",
        "        flags=re.DOTALL\n",
        "    )\n",
        "    # Add vmax_override to the plotting function signature\n",
        "    code = code.replace(\n",
        "        'def plot_heatmap_on_field_metres(\\n    H, x_edges, y_edges, a, b, title=\"\", alpha_img=0.88, out_path=None\\n):',\n",
        "        'def plot_heatmap_on_field_metres(\\n    H, x_edges, y_edges, a, b, title=\"\", alpha_img=0.88, out_path=None, vmax_override=None\\n):'\n",
        "    )\n",
        "    # Use override if provided\n",
        "    code = code.replace(\n",
        "        'vmax = (np.nanpercentile(finite_vals, 99) if finite_vals.size else np.nanmax(H)) or 1.0',\n",
        "        'vmax = (vmax_override if (vmax_override is not None) else '\n",
        "        '(np.nanpercentile(finite_vals, 99) if finite_vals.size else np.nanmax(H)) or 1.0)'\n",
        "    )\n",
        "    # Pass override through call sites\n",
        "    code = code.replace(\n",
        "        'plot_heatmap_on_field_metres(H, xe, ye, a, b, title, out_path=img_out)',\n",
        "        'plot_heatmap_on_field_metres(H, xe, ye, a, b, title, out_path=img_out, vmax_override=args.vmax)'\n",
        "    )\n",
        "    p.write_text(code)\n",
        "    print(\"Patched pipeline with --vmax\")\n",
        "else:\n",
        "    print(\"Pipeline already patched\")"
      ],
      "metadata": {
        "colab": {
          "base_uri": "https://localhost:8080/"
        },
        "id": "QSyUKjlHSFiZ",
        "outputId": "56bd3352-89b7-4e48-b4fe-526c8a70a8fd"
      },
      "execution_count": null,
      "outputs": [
        {
          "output_type": "stream",
          "name": "stdout",
          "text": [
            "Patched pipeline with --vmax ✅\n"
          ]
        }
      ]
    },
    {
      "cell_type": "code",
      "source": [
        "# 3.3.3  Generate one heatmap per frame (temp CSVs saved neatly in a folder)\n",
        "\n",
        "import os\n",
        "\n",
        "out_dir = \"heatmap_frames_vmax\"   # where PNGs go\n",
        "tmp_dir = \"tmp_frames_vmax\"       # where per-frame CSVs go\n",
        "os.makedirs(out_dir, exist_ok=True)\n",
        "os.makedirs(tmp_dir, exist_ok=True)\n",
        "\n",
        "unique_frames = sorted(df_sorted[\"frame_id\"].unique().tolist())\n",
        "print(f\"Generating {len(unique_frames)} heatmaps...\")\n",
        "\n",
        "for fid in unique_frames:\n",
        "    sub = df_sorted[df_sorted[\"frame_id\"] == fid][[\n",
        "        'frame_id','player_id','timestamp_s','x1','y1','x2','y2','cx','cy','w','h','confidence'\n",
        "    ]].copy()\n",
        "\n",
        "    tmp_name = f\"tmp_frame_{fid:05d}.csv\"\n",
        "    temp_csv = os.path.join(tmp_dir, tmp_name)  # << save into folder\n",
        "    sub.to_csv(temp_csv, index=False)\n",
        "\n",
        "    label = f\"frame_{fid:05d}\"\n",
        "    !python heatmappipeline_xuan.py \\\n",
        "      --inputs \"{temp_csv}:{label}\" \\\n",
        "      --out-dir {out_dir} \\\n",
        "      --weight-mode conf \\\n",
        "      --field-length 165 --field-width 135 \\\n",
        "      --nx 200 --ny 150 \\\n",
        "      --sigma 2.0 \\\n",
        "      --vmax 0.001"
      ],
      "metadata": {
        "colab": {
          "base_uri": "https://localhost:8080/"
        },
        "collapsed": true,
        "id": "xNGYgBTVSL1F",
        "outputId": "3f02e5cb-f910-4eca-9434-89effd75c36d"
      },
      "execution_count": null,
      "outputs": [
        {
          "output_type": "stream",
          "name": "stdout",
          "text": [
            "Generating 193 heatmaps...\n",
            "DEBUG group-by: None\n",
            "Done. Outputs in: /content/heatmap_frames_vmax\n",
            "DEBUG group-by: None\n",
            "Done. Outputs in: /content/heatmap_frames_vmax\n",
            "DEBUG group-by: None\n",
            "Done. Outputs in: /content/heatmap_frames_vmax\n",
            "DEBUG group-by: None\n",
            "Done. Outputs in: /content/heatmap_frames_vmax\n",
            "DEBUG group-by: None\n",
            "Done. Outputs in: /content/heatmap_frames_vmax\n",
            "DEBUG group-by: None\n",
            "Done. Outputs in: /content/heatmap_frames_vmax\n",
            "DEBUG group-by: None\n",
            "Done. Outputs in: /content/heatmap_frames_vmax\n",
            "DEBUG group-by: None\n",
            "Done. Outputs in: /content/heatmap_frames_vmax\n",
            "DEBUG group-by: None\n",
            "Done. Outputs in: /content/heatmap_frames_vmax\n",
            "DEBUG group-by: None\n",
            "Done. Outputs in: /content/heatmap_frames_vmax\n",
            "DEBUG group-by: None\n",
            "Done. Outputs in: /content/heatmap_frames_vmax\n",
            "DEBUG group-by: None\n",
            "Done. Outputs in: /content/heatmap_frames_vmax\n",
            "DEBUG group-by: None\n",
            "Done. Outputs in: /content/heatmap_frames_vmax\n",
            "DEBUG group-by: None\n",
            "Done. Outputs in: /content/heatmap_frames_vmax\n",
            "DEBUG group-by: None\n",
            "Done. Outputs in: /content/heatmap_frames_vmax\n",
            "DEBUG group-by: None\n",
            "Done. Outputs in: /content/heatmap_frames_vmax\n",
            "DEBUG group-by: None\n",
            "Done. Outputs in: /content/heatmap_frames_vmax\n",
            "DEBUG group-by: None\n",
            "Done. Outputs in: /content/heatmap_frames_vmax\n",
            "DEBUG group-by: None\n",
            "Done. Outputs in: /content/heatmap_frames_vmax\n",
            "DEBUG group-by: None\n",
            "Done. Outputs in: /content/heatmap_frames_vmax\n",
            "DEBUG group-by: None\n",
            "Done. Outputs in: /content/heatmap_frames_vmax\n",
            "DEBUG group-by: None\n",
            "Done. Outputs in: /content/heatmap_frames_vmax\n",
            "DEBUG group-by: None\n",
            "Done. Outputs in: /content/heatmap_frames_vmax\n",
            "DEBUG group-by: None\n",
            "Done. Outputs in: /content/heatmap_frames_vmax\n",
            "DEBUG group-by: None\n",
            "Done. Outputs in: /content/heatmap_frames_vmax\n",
            "DEBUG group-by: None\n",
            "Done. Outputs in: /content/heatmap_frames_vmax\n",
            "DEBUG group-by: None\n",
            "Done. Outputs in: /content/heatmap_frames_vmax\n",
            "DEBUG group-by: None\n",
            "Done. Outputs in: /content/heatmap_frames_vmax\n",
            "DEBUG group-by: None\n",
            "Done. Outputs in: /content/heatmap_frames_vmax\n",
            "DEBUG group-by: None\n",
            "Done. Outputs in: /content/heatmap_frames_vmax\n",
            "DEBUG group-by: None\n",
            "Done. Outputs in: /content/heatmap_frames_vmax\n",
            "DEBUG group-by: None\n",
            "Done. Outputs in: /content/heatmap_frames_vmax\n",
            "DEBUG group-by: None\n",
            "Done. Outputs in: /content/heatmap_frames_vmax\n",
            "DEBUG group-by: None\n",
            "Done. Outputs in: /content/heatmap_frames_vmax\n",
            "DEBUG group-by: None\n",
            "Done. Outputs in: /content/heatmap_frames_vmax\n",
            "DEBUG group-by: None\n",
            "Done. Outputs in: /content/heatmap_frames_vmax\n",
            "DEBUG group-by: None\n",
            "Done. Outputs in: /content/heatmap_frames_vmax\n",
            "DEBUG group-by: None\n",
            "Done. Outputs in: /content/heatmap_frames_vmax\n",
            "DEBUG group-by: None\n",
            "Done. Outputs in: /content/heatmap_frames_vmax\n",
            "DEBUG group-by: None\n",
            "Done. Outputs in: /content/heatmap_frames_vmax\n",
            "DEBUG group-by: None\n",
            "Done. Outputs in: /content/heatmap_frames_vmax\n",
            "DEBUG group-by: None\n",
            "Done. Outputs in: /content/heatmap_frames_vmax\n",
            "DEBUG group-by: None\n",
            "Done. Outputs in: /content/heatmap_frames_vmax\n",
            "DEBUG group-by: None\n",
            "Done. Outputs in: /content/heatmap_frames_vmax\n",
            "DEBUG group-by: None\n",
            "Done. Outputs in: /content/heatmap_frames_vmax\n",
            "DEBUG group-by: None\n",
            "Done. Outputs in: /content/heatmap_frames_vmax\n",
            "DEBUG group-by: None\n",
            "Done. Outputs in: /content/heatmap_frames_vmax\n",
            "DEBUG group-by: None\n",
            "Done. Outputs in: /content/heatmap_frames_vmax\n",
            "DEBUG group-by: None\n",
            "Done. Outputs in: /content/heatmap_frames_vmax\n",
            "DEBUG group-by: None\n",
            "Done. Outputs in: /content/heatmap_frames_vmax\n",
            "DEBUG group-by: None\n",
            "Done. Outputs in: /content/heatmap_frames_vmax\n",
            "DEBUG group-by: None\n",
            "Done. Outputs in: /content/heatmap_frames_vmax\n",
            "DEBUG group-by: None\n",
            "Done. Outputs in: /content/heatmap_frames_vmax\n",
            "DEBUG group-by: None\n",
            "Done. Outputs in: /content/heatmap_frames_vmax\n",
            "DEBUG group-by: None\n",
            "Done. Outputs in: /content/heatmap_frames_vmax\n",
            "DEBUG group-by: None\n",
            "Done. Outputs in: /content/heatmap_frames_vmax\n",
            "DEBUG group-by: None\n",
            "Done. Outputs in: /content/heatmap_frames_vmax\n",
            "DEBUG group-by: None\n",
            "Done. Outputs in: /content/heatmap_frames_vmax\n",
            "DEBUG group-by: None\n",
            "Done. Outputs in: /content/heatmap_frames_vmax\n",
            "DEBUG group-by: None\n",
            "Done. Outputs in: /content/heatmap_frames_vmax\n",
            "DEBUG group-by: None\n",
            "Done. Outputs in: /content/heatmap_frames_vmax\n",
            "DEBUG group-by: None\n",
            "Done. Outputs in: /content/heatmap_frames_vmax\n",
            "DEBUG group-by: None\n",
            "Done. Outputs in: /content/heatmap_frames_vmax\n",
            "DEBUG group-by: None\n",
            "Done. Outputs in: /content/heatmap_frames_vmax\n",
            "DEBUG group-by: None\n",
            "Done. Outputs in: /content/heatmap_frames_vmax\n",
            "DEBUG group-by: None\n",
            "Done. Outputs in: /content/heatmap_frames_vmax\n",
            "DEBUG group-by: None\n",
            "Done. Outputs in: /content/heatmap_frames_vmax\n",
            "DEBUG group-by: None\n",
            "Done. Outputs in: /content/heatmap_frames_vmax\n",
            "DEBUG group-by: None\n",
            "Done. Outputs in: /content/heatmap_frames_vmax\n",
            "DEBUG group-by: None\n",
            "Done. Outputs in: /content/heatmap_frames_vmax\n",
            "DEBUG group-by: None\n",
            "Done. Outputs in: /content/heatmap_frames_vmax\n",
            "DEBUG group-by: None\n",
            "Done. Outputs in: /content/heatmap_frames_vmax\n",
            "DEBUG group-by: None\n",
            "Done. Outputs in: /content/heatmap_frames_vmax\n",
            "DEBUG group-by: None\n",
            "Done. Outputs in: /content/heatmap_frames_vmax\n",
            "DEBUG group-by: None\n",
            "Done. Outputs in: /content/heatmap_frames_vmax\n",
            "DEBUG group-by: None\n",
            "Done. Outputs in: /content/heatmap_frames_vmax\n",
            "DEBUG group-by: None\n",
            "Done. Outputs in: /content/heatmap_frames_vmax\n",
            "DEBUG group-by: None\n",
            "Done. Outputs in: /content/heatmap_frames_vmax\n",
            "DEBUG group-by: None\n",
            "Done. Outputs in: /content/heatmap_frames_vmax\n",
            "DEBUG group-by: None\n",
            "Done. Outputs in: /content/heatmap_frames_vmax\n",
            "DEBUG group-by: None\n",
            "Done. Outputs in: /content/heatmap_frames_vmax\n",
            "DEBUG group-by: None\n",
            "Done. Outputs in: /content/heatmap_frames_vmax\n",
            "DEBUG group-by: None\n",
            "Done. Outputs in: /content/heatmap_frames_vmax\n",
            "DEBUG group-by: None\n",
            "Done. Outputs in: /content/heatmap_frames_vmax\n",
            "DEBUG group-by: None\n",
            "Done. Outputs in: /content/heatmap_frames_vmax\n",
            "DEBUG group-by: None\n",
            "Done. Outputs in: /content/heatmap_frames_vmax\n",
            "DEBUG group-by: None\n",
            "Done. Outputs in: /content/heatmap_frames_vmax\n",
            "DEBUG group-by: None\n",
            "Done. Outputs in: /content/heatmap_frames_vmax\n",
            "DEBUG group-by: None\n",
            "Done. Outputs in: /content/heatmap_frames_vmax\n",
            "DEBUG group-by: None\n",
            "Done. Outputs in: /content/heatmap_frames_vmax\n",
            "DEBUG group-by: None\n",
            "Done. Outputs in: /content/heatmap_frames_vmax\n",
            "DEBUG group-by: None\n",
            "Done. Outputs in: /content/heatmap_frames_vmax\n",
            "DEBUG group-by: None\n",
            "Done. Outputs in: /content/heatmap_frames_vmax\n",
            "DEBUG group-by: None\n",
            "Done. Outputs in: /content/heatmap_frames_vmax\n",
            "DEBUG group-by: None\n",
            "Done. Outputs in: /content/heatmap_frames_vmax\n",
            "DEBUG group-by: None\n",
            "Done. Outputs in: /content/heatmap_frames_vmax\n",
            "DEBUG group-by: None\n",
            "Done. Outputs in: /content/heatmap_frames_vmax\n",
            "DEBUG group-by: None\n",
            "Done. Outputs in: /content/heatmap_frames_vmax\n",
            "DEBUG group-by: None\n",
            "Done. Outputs in: /content/heatmap_frames_vmax\n",
            "DEBUG group-by: None\n",
            "Done. Outputs in: /content/heatmap_frames_vmax\n",
            "DEBUG group-by: None\n",
            "Done. Outputs in: /content/heatmap_frames_vmax\n",
            "DEBUG group-by: None\n",
            "Done. Outputs in: /content/heatmap_frames_vmax\n",
            "DEBUG group-by: None\n",
            "Done. Outputs in: /content/heatmap_frames_vmax\n",
            "DEBUG group-by: None\n",
            "Done. Outputs in: /content/heatmap_frames_vmax\n",
            "DEBUG group-by: None\n",
            "Done. Outputs in: /content/heatmap_frames_vmax\n",
            "DEBUG group-by: None\n",
            "Done. Outputs in: /content/heatmap_frames_vmax\n",
            "DEBUG group-by: None\n",
            "Done. Outputs in: /content/heatmap_frames_vmax\n",
            "DEBUG group-by: None\n",
            "Done. Outputs in: /content/heatmap_frames_vmax\n",
            "DEBUG group-by: None\n",
            "Done. Outputs in: /content/heatmap_frames_vmax\n",
            "DEBUG group-by: None\n",
            "Done. Outputs in: /content/heatmap_frames_vmax\n",
            "DEBUG group-by: None\n",
            "Done. Outputs in: /content/heatmap_frames_vmax\n",
            "DEBUG group-by: None\n",
            "Done. Outputs in: /content/heatmap_frames_vmax\n",
            "DEBUG group-by: None\n",
            "Done. Outputs in: /content/heatmap_frames_vmax\n",
            "DEBUG group-by: None\n",
            "Done. Outputs in: /content/heatmap_frames_vmax\n",
            "DEBUG group-by: None\n",
            "Done. Outputs in: /content/heatmap_frames_vmax\n",
            "DEBUG group-by: None\n",
            "Done. Outputs in: /content/heatmap_frames_vmax\n",
            "DEBUG group-by: None\n",
            "Done. Outputs in: /content/heatmap_frames_vmax\n",
            "DEBUG group-by: None\n",
            "Done. Outputs in: /content/heatmap_frames_vmax\n",
            "DEBUG group-by: None\n",
            "Done. Outputs in: /content/heatmap_frames_vmax\n",
            "DEBUG group-by: None\n",
            "Done. Outputs in: /content/heatmap_frames_vmax\n",
            "DEBUG group-by: None\n",
            "Done. Outputs in: /content/heatmap_frames_vmax\n",
            "DEBUG group-by: None\n",
            "Done. Outputs in: /content/heatmap_frames_vmax\n",
            "DEBUG group-by: None\n",
            "Done. Outputs in: /content/heatmap_frames_vmax\n",
            "DEBUG group-by: None\n",
            "Done. Outputs in: /content/heatmap_frames_vmax\n",
            "DEBUG group-by: None\n",
            "Done. Outputs in: /content/heatmap_frames_vmax\n",
            "DEBUG group-by: None\n",
            "Done. Outputs in: /content/heatmap_frames_vmax\n",
            "DEBUG group-by: None\n",
            "Done. Outputs in: /content/heatmap_frames_vmax\n",
            "DEBUG group-by: None\n",
            "Done. Outputs in: /content/heatmap_frames_vmax\n",
            "DEBUG group-by: None\n",
            "Done. Outputs in: /content/heatmap_frames_vmax\n",
            "DEBUG group-by: None\n",
            "Done. Outputs in: /content/heatmap_frames_vmax\n",
            "DEBUG group-by: None\n",
            "Done. Outputs in: /content/heatmap_frames_vmax\n",
            "DEBUG group-by: None\n",
            "Done. Outputs in: /content/heatmap_frames_vmax\n",
            "DEBUG group-by: None\n",
            "Done. Outputs in: /content/heatmap_frames_vmax\n",
            "DEBUG group-by: None\n",
            "Done. Outputs in: /content/heatmap_frames_vmax\n",
            "DEBUG group-by: None\n",
            "Done. Outputs in: /content/heatmap_frames_vmax\n",
            "DEBUG group-by: None\n",
            "Done. Outputs in: /content/heatmap_frames_vmax\n",
            "DEBUG group-by: None\n",
            "Done. Outputs in: /content/heatmap_frames_vmax\n",
            "DEBUG group-by: None\n",
            "Done. Outputs in: /content/heatmap_frames_vmax\n",
            "DEBUG group-by: None\n",
            "Done. Outputs in: /content/heatmap_frames_vmax\n",
            "DEBUG group-by: None\n",
            "Done. Outputs in: /content/heatmap_frames_vmax\n",
            "DEBUG group-by: None\n",
            "Done. Outputs in: /content/heatmap_frames_vmax\n",
            "DEBUG group-by: None\n",
            "Done. Outputs in: /content/heatmap_frames_vmax\n",
            "DEBUG group-by: None\n",
            "Done. Outputs in: /content/heatmap_frames_vmax\n",
            "DEBUG group-by: None\n",
            "Done. Outputs in: /content/heatmap_frames_vmax\n",
            "DEBUG group-by: None\n",
            "Done. Outputs in: /content/heatmap_frames_vmax\n",
            "DEBUG group-by: None\n",
            "Done. Outputs in: /content/heatmap_frames_vmax\n",
            "DEBUG group-by: None\n",
            "Done. Outputs in: /content/heatmap_frames_vmax\n",
            "DEBUG group-by: None\n",
            "Done. Outputs in: /content/heatmap_frames_vmax\n",
            "DEBUG group-by: None\n",
            "Done. Outputs in: /content/heatmap_frames_vmax\n",
            "DEBUG group-by: None\n",
            "Done. Outputs in: /content/heatmap_frames_vmax\n",
            "DEBUG group-by: None\n",
            "Done. Outputs in: /content/heatmap_frames_vmax\n",
            "DEBUG group-by: None\n",
            "Done. Outputs in: /content/heatmap_frames_vmax\n",
            "DEBUG group-by: None\n",
            "Done. Outputs in: /content/heatmap_frames_vmax\n",
            "DEBUG group-by: None\n",
            "Done. Outputs in: /content/heatmap_frames_vmax\n",
            "DEBUG group-by: None\n",
            "Done. Outputs in: /content/heatmap_frames_vmax\n",
            "DEBUG group-by: None\n",
            "Done. Outputs in: /content/heatmap_frames_vmax\n",
            "DEBUG group-by: None\n",
            "Done. Outputs in: /content/heatmap_frames_vmax\n",
            "DEBUG group-by: None\n",
            "Done. Outputs in: /content/heatmap_frames_vmax\n",
            "DEBUG group-by: None\n",
            "Done. Outputs in: /content/heatmap_frames_vmax\n",
            "DEBUG group-by: None\n",
            "Done. Outputs in: /content/heatmap_frames_vmax\n",
            "DEBUG group-by: None\n",
            "Done. Outputs in: /content/heatmap_frames_vmax\n",
            "DEBUG group-by: None\n",
            "Done. Outputs in: /content/heatmap_frames_vmax\n",
            "DEBUG group-by: None\n",
            "Done. Outputs in: /content/heatmap_frames_vmax\n",
            "DEBUG group-by: None\n",
            "Done. Outputs in: /content/heatmap_frames_vmax\n",
            "DEBUG group-by: None\n",
            "Done. Outputs in: /content/heatmap_frames_vmax\n",
            "DEBUG group-by: None\n",
            "Done. Outputs in: /content/heatmap_frames_vmax\n",
            "DEBUG group-by: None\n",
            "Done. Outputs in: /content/heatmap_frames_vmax\n",
            "DEBUG group-by: None\n",
            "Done. Outputs in: /content/heatmap_frames_vmax\n",
            "DEBUG group-by: None\n",
            "Done. Outputs in: /content/heatmap_frames_vmax\n",
            "DEBUG group-by: None\n",
            "Done. Outputs in: /content/heatmap_frames_vmax\n",
            "DEBUG group-by: None\n",
            "Done. Outputs in: /content/heatmap_frames_vmax\n",
            "DEBUG group-by: None\n",
            "Done. Outputs in: /content/heatmap_frames_vmax\n",
            "DEBUG group-by: None\n",
            "Done. Outputs in: /content/heatmap_frames_vmax\n",
            "DEBUG group-by: None\n",
            "Done. Outputs in: /content/heatmap_frames_vmax\n",
            "DEBUG group-by: None\n",
            "Done. Outputs in: /content/heatmap_frames_vmax\n",
            "DEBUG group-by: None\n",
            "Done. Outputs in: /content/heatmap_frames_vmax\n",
            "DEBUG group-by: None\n",
            "Done. Outputs in: /content/heatmap_frames_vmax\n",
            "DEBUG group-by: None\n",
            "Done. Outputs in: /content/heatmap_frames_vmax\n",
            "DEBUG group-by: None\n",
            "Done. Outputs in: /content/heatmap_frames_vmax\n",
            "DEBUG group-by: None\n",
            "Done. Outputs in: /content/heatmap_frames_vmax\n",
            "DEBUG group-by: None\n",
            "Done. Outputs in: /content/heatmap_frames_vmax\n",
            "DEBUG group-by: None\n",
            "Done. Outputs in: /content/heatmap_frames_vmax\n",
            "DEBUG group-by: None\n",
            "Done. Outputs in: /content/heatmap_frames_vmax\n",
            "DEBUG group-by: None\n",
            "Done. Outputs in: /content/heatmap_frames_vmax\n",
            "DEBUG group-by: None\n",
            "Done. Outputs in: /content/heatmap_frames_vmax\n",
            "DEBUG group-by: None\n",
            "Done. Outputs in: /content/heatmap_frames_vmax\n",
            "DEBUG group-by: None\n",
            "Done. Outputs in: /content/heatmap_frames_vmax\n",
            "DEBUG group-by: None\n",
            "Done. Outputs in: /content/heatmap_frames_vmax\n",
            "DEBUG group-by: None\n",
            "Done. Outputs in: /content/heatmap_frames_vmax\n",
            "DEBUG group-by: None\n",
            "Done. Outputs in: /content/heatmap_frames_vmax\n",
            "DEBUG group-by: None\n",
            "Done. Outputs in: /content/heatmap_frames_vmax\n",
            "DEBUG group-by: None\n",
            "Done. Outputs in: /content/heatmap_frames_vmax\n",
            "DEBUG group-by: None\n",
            "Done. Outputs in: /content/heatmap_frames_vmax\n"
          ]
        }
      ]
    },
    {
      "cell_type": "code",
      "source": [
        "# 3.3.4\n",
        "\n",
        "!ls -l heatmap_frames_vmax | head -n 12"
      ],
      "metadata": {
        "colab": {
          "base_uri": "https://localhost:8080/"
        },
        "id": "0dwVrXpSSRKD",
        "outputId": "1a5a924e-4397-4ee1-b996-c6fbb8613b0f"
      },
      "execution_count": null,
      "outputs": [
        {
          "output_type": "stream",
          "name": "stdout",
          "text": [
            "total 220552\n",
            "-rw-r--r-- 1 root root 954466 Sep 13 12:06 density_frame_00001.csv\n",
            "-rw-r--r-- 1 root root 954466 Sep 13 12:06 density_frame_00002.csv\n",
            "-rw-r--r-- 1 root root 954466 Sep 13 12:06 density_frame_00003.csv\n",
            "-rw-r--r-- 1 root root 954466 Sep 13 12:06 density_frame_00004.csv\n",
            "-rw-r--r-- 1 root root 954466 Sep 13 12:06 density_frame_00005.csv\n",
            "-rw-r--r-- 1 root root 954466 Sep 13 12:06 density_frame_00006.csv\n",
            "-rw-r--r-- 1 root root 954466 Sep 13 12:06 density_frame_00007.csv\n",
            "-rw-r--r-- 1 root root 954466 Sep 13 12:06 density_frame_00008.csv\n",
            "-rw-r--r-- 1 root root 954466 Sep 13 12:06 density_frame_00009.csv\n",
            "-rw-r--r-- 1 root root 954466 Sep 13 12:06 density_frame_00010.csv\n",
            "-rw-r--r-- 1 root root 959648 Sep 13 12:06 density_frame_00011.csv\n"
          ]
        }
      ]
    },
    {
      "cell_type": "code",
      "source": [
        "# 3.3.5\n",
        "\n",
        "import imageio, glob, os, re\n",
        "\n",
        "# Collect the per-frame images from the neat folder\n",
        "candidates = glob.glob(os.path.join(\"heatmap_frames_vmax\", \"heatmap_*.png\"))\n",
        "\n",
        "# Natural sort by trailing number (frame index)\n",
        "def frame_key(p):\n",
        "    m = re.search(r'(\\d+)(?=\\.png$)', os.path.basename(p))\n",
        "    return int(m.group(1)) if m else 0\n",
        "\n",
        "pngs = sorted(candidates, key=frame_key)\n",
        "print(\"Found\", len(pngs), \"frames for video.\")\n",
        "\n",
        "out_mp4 = \"heatmap_everyframe_vmax.mp4\"\n",
        "with imageio.get_writer(out_mp4, fps=10, codec=\"libx264\") as w:\n",
        "    for fn in pngs:\n",
        "        w.append_data(imageio.imread(fn))\n",
        "\n",
        "print(\"Saved:\", out_mp4)"
      ],
      "metadata": {
        "colab": {
          "base_uri": "https://localhost:8080/"
        },
        "id": "mlYcPcMpSUky",
        "outputId": "9b5f45cb-d5b7-4021-904d-0dd0210a5cb6"
      },
      "execution_count": null,
      "outputs": [
        {
          "output_type": "stream",
          "name": "stdout",
          "text": [
            "Found 193 frames for video.\n"
          ]
        },
        {
          "output_type": "stream",
          "name": "stderr",
          "text": [
            "/tmp/ipython-input-1322419623.py:19: DeprecationWarning: Starting with ImageIO v3 the behavior of this function will switch to that of iio.v3.imread. To keep the current behavior (and make this warning disappear) use `import imageio.v2 as imageio` or call `imageio.v2.imread` directly.\n",
            "  w.append_data(imageio.imread(fn))\n",
            "WARNING:imageio_ffmpeg:IMAGEIO FFMPEG_WRITER WARNING: input image is not divisible by macro_block_size=16, resizing from (2420, 1760) to (2432, 1760) to ensure video compatibility with most codecs and players. To prevent resizing, make your input image divisible by the macro_block_size or set the macro_block_size to 1 (risking incompatibility).\n"
          ]
        },
        {
          "output_type": "stream",
          "name": "stdout",
          "text": [
            "Saved: heatmap_everyframe_vmax.mp4\n"
          ]
        }
      ]
    },
    {
      "cell_type": "code",
      "source": [
        "# 3.3.6\n",
        "\n",
        "from google.colab import files\n",
        "files.download(\"heatmap_everyframe_vmax.mp4\")"
      ],
      "metadata": {
        "colab": {
          "base_uri": "https://localhost:8080/",
          "height": 17
        },
        "id": "kb0nHaksSY4M",
        "outputId": "12ec3556-f18a-48e0-91de-f29173ba7474"
      },
      "execution_count": null,
      "outputs": [
        {
          "output_type": "display_data",
          "data": {
            "text/plain": [
              "<IPython.core.display.Javascript object>"
            ],
            "application/javascript": [
              "\n",
              "    async function download(id, filename, size) {\n",
              "      if (!google.colab.kernel.accessAllowed) {\n",
              "        return;\n",
              "      }\n",
              "      const div = document.createElement('div');\n",
              "      const label = document.createElement('label');\n",
              "      label.textContent = `Downloading \"${filename}\": `;\n",
              "      div.appendChild(label);\n",
              "      const progress = document.createElement('progress');\n",
              "      progress.max = size;\n",
              "      div.appendChild(progress);\n",
              "      document.body.appendChild(div);\n",
              "\n",
              "      const buffers = [];\n",
              "      let downloaded = 0;\n",
              "\n",
              "      const channel = await google.colab.kernel.comms.open(id);\n",
              "      // Send a message to notify the kernel that we're ready.\n",
              "      channel.send({})\n",
              "\n",
              "      for await (const message of channel.messages) {\n",
              "        // Send a message to notify the kernel that we're ready.\n",
              "        channel.send({})\n",
              "        if (message.buffers) {\n",
              "          for (const buffer of message.buffers) {\n",
              "            buffers.push(buffer);\n",
              "            downloaded += buffer.byteLength;\n",
              "            progress.value = downloaded;\n",
              "          }\n",
              "        }\n",
              "      }\n",
              "      const blob = new Blob(buffers, {type: 'application/binary'});\n",
              "      const a = document.createElement('a');\n",
              "      a.href = window.URL.createObjectURL(blob);\n",
              "      a.download = filename;\n",
              "      div.appendChild(a);\n",
              "      a.click();\n",
              "      div.remove();\n",
              "    }\n",
              "  "
            ]
          },
          "metadata": {}
        },
        {
          "output_type": "display_data",
          "data": {
            "text/plain": [
              "<IPython.core.display.Javascript object>"
            ],
            "application/javascript": [
              "download(\"download_ca664532-bc75-4bc0-82d3-fa163dc8d63c\", \"heatmap_everyframe_vmax.mp4\", 254395)"
            ]
          },
          "metadata": {}
        }
      ]
    },
    {
      "cell_type": "markdown",
      "source": [
        "🌊 **3.4 Speed Threshold Marker**\n"
      ],
      "metadata": {
        "id": "yt5-r1hJJHCj"
      }
    },
    {
      "cell_type": "code",
      "source": [
        "# Ensure speed_mps exists on df_sorted\n",
        "if 'speed_mps' not in df_sorted.columns:\n",
        "    # Use 25 fps for this clip (193 frames in ~7.68 s)\n",
        "    fps = 25.0\n",
        "\n",
        "    # If metre coordinates exist from earlier, use them; else derive metres from cx,cy range.\n",
        "    if {'cx_m','cy_m'}.issubset(df_sorted.columns):\n",
        "        x = df_sorted['cx_m'].astype(float)\n",
        "        y = df_sorted['cy_m'].astype(float)\n",
        "    else:\n",
        "        FIELD_LEN_M, FIELD_WID_M = 165.0, 135.0\n",
        "        px_w = (df_sorted['cx'].max() - df_sorted['cx'].min())\n",
        "        px_l = (df_sorted['cy'].max() - df_sorted['cy'].min())\n",
        "        sx   = FIELD_WID_M / max(px_w, 1e-9)\n",
        "        sy   = FIELD_LEN_M / max(px_l, 1e-9)\n",
        "        x = (df_sorted['cx'] - df_sorted['cx'].min()) * sx\n",
        "        y = (df_sorted['cy'] - df_sorted['cy'].min()) * sy\n",
        "\n",
        "    dx = x.groupby(df_sorted['player_id']).diff()\n",
        "    dy = y.groupby(df_sorted['player_id']).diff()\n",
        "    step_m = np.hypot(dx, dy)\n",
        "\n",
        "    dt_s = df_sorted.groupby('player_id')['frame_id'].diff() / fps\n",
        "\n",
        "    # Raw speed (no clamping for this section)\n",
        "    speed_mps = np.where((dt_s > 0) & np.isfinite(dt_s), step_m / dt_s, np.nan)\n",
        "    df_sorted = df_sorted.copy()\n",
        "    df_sorted['speed_mps'] = speed_mps\n",
        "\n",
        "# Filter rows above threshold and export\n",
        "threshold_kmh = 15.0\n",
        "speed_kmh = df_sorted['speed_mps'] * 3.6\n",
        "\n",
        "df_fast = df_sorted.loc[speed_kmh > threshold_kmh, ['player_id','frame_id']].copy()\n",
        "df_fast['speed_kmh'] = speed_kmh.loc[df_fast.index]\n",
        "\n",
        "# keep timestamp for context\n",
        "if 'timestamp_s' in df_sorted.columns:\n",
        "    df_fast['timestamp_s'] = df_sorted.loc[df_fast.index, 'timestamp_s']\n",
        "\n",
        "print(df_fast.head(10))\n",
        "df_fast.to_csv(\"players_over_15kmh.csv\", index=False)\n",
        "print(\"Saved: players_over_15kmh.csv  (rows:\", len(df_fast), \")\")"
      ],
      "metadata": {
        "id": "-fpZijEGJGiM",
        "colab": {
          "base_uri": "https://localhost:8080/"
        },
        "outputId": "1aa4f7fa-4a3a-48be-9e5b-8570253d9978"
      },
      "execution_count": null,
      "outputs": [
        {
          "output_type": "stream",
          "name": "stdout",
          "text": [
            "    player_id  frame_id   speed_kmh  timestamp_s\n",
            "2           1         2  150.066176         0.04\n",
            "4           1         3   57.086052         0.08\n",
            "6           1         4  106.698493         0.12\n",
            "8           1         5   39.341608         0.16\n",
            "10          1         6   94.098187         0.20\n",
            "12          1         7  361.786703         0.24\n",
            "14          1         8  126.836078         0.28\n",
            "16          1         9   44.446889         0.32\n",
            "18          1        10   61.787793         0.36\n",
            "23          1        12  144.252563         0.44\n",
            "Saved: players_over_15kmh.csv  (rows: 733 )\n"
          ]
        }
      ]
    }
  ]
}